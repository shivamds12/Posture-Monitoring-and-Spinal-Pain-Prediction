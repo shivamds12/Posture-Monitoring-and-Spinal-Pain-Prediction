{
 "cells": [
  {
   "cell_type": "code",
   "execution_count": 2,
   "id": "59225e28-0a43-413a-9e34-07e83dc09a9f",
   "metadata": {},
   "outputs": [
    {
     "name": "stderr",
     "output_type": "stream",
     "text": [
      "WARNING:absl:Compiled the loaded model, but the compiled metrics have yet to be built. `model.compile_metrics` will be empty until you train or evaluate the model.\n"
     ]
    },
    {
     "ename": "FileNotFoundError",
     "evalue": "[Errno 2] No such file or directory: 'scaler.pkl'",
     "output_type": "error",
     "traceback": [
      "\u001b[1;31m---------------------------------------------------------------------------\u001b[0m",
      "\u001b[1;31mFileNotFoundError\u001b[0m                         Traceback (most recent call last)",
      "Cell \u001b[1;32mIn[2], line 14\u001b[0m\n\u001b[0;32m     12\u001b[0m \u001b[38;5;66;03m# Load trained LSTM model\u001b[39;00m\n\u001b[0;32m     13\u001b[0m model \u001b[38;5;241m=\u001b[39m tf\u001b[38;5;241m.\u001b[39mkeras\u001b[38;5;241m.\u001b[39mmodels\u001b[38;5;241m.\u001b[39mload_model(\u001b[38;5;124m\"\u001b[39m\u001b[38;5;124mlstm_posture_model.h5\u001b[39m\u001b[38;5;124m\"\u001b[39m)\n\u001b[1;32m---> 14\u001b[0m scaler \u001b[38;5;241m=\u001b[39m \u001b[43mjoblib\u001b[49m\u001b[38;5;241;43m.\u001b[39;49m\u001b[43mload\u001b[49m\u001b[43m(\u001b[49m\u001b[38;5;124;43m\"\u001b[39;49m\u001b[38;5;124;43mscaler.pkl\u001b[39;49m\u001b[38;5;124;43m\"\u001b[39;49m\u001b[43m)\u001b[49m\n\u001b[0;32m     16\u001b[0m \u001b[38;5;66;03m# Initialize angles and previous timestamp\u001b[39;00m\n\u001b[0;32m     17\u001b[0m angle_x, angle_y, angle_z \u001b[38;5;241m=\u001b[39m \u001b[38;5;241m0.0\u001b[39m, \u001b[38;5;241m0.0\u001b[39m, \u001b[38;5;241m0.0\u001b[39m\n",
      "File \u001b[1;32m~\\OneDrive\\Desktop\\ML\\myenv\\Lib\\site-packages\\joblib\\numpy_pickle.py:650\u001b[0m, in \u001b[0;36mload\u001b[1;34m(filename, mmap_mode)\u001b[0m\n\u001b[0;32m    648\u001b[0m         obj \u001b[38;5;241m=\u001b[39m _unpickle(fobj)\n\u001b[0;32m    649\u001b[0m \u001b[38;5;28;01melse\u001b[39;00m:\n\u001b[1;32m--> 650\u001b[0m     \u001b[38;5;28;01mwith\u001b[39;00m \u001b[38;5;28;43mopen\u001b[39;49m\u001b[43m(\u001b[49m\u001b[43mfilename\u001b[49m\u001b[43m,\u001b[49m\u001b[43m \u001b[49m\u001b[38;5;124;43m'\u001b[39;49m\u001b[38;5;124;43mrb\u001b[39;49m\u001b[38;5;124;43m'\u001b[39;49m\u001b[43m)\u001b[49m \u001b[38;5;28;01mas\u001b[39;00m f:\n\u001b[0;32m    651\u001b[0m         \u001b[38;5;28;01mwith\u001b[39;00m _read_fileobject(f, filename, mmap_mode) \u001b[38;5;28;01mas\u001b[39;00m fobj:\n\u001b[0;32m    652\u001b[0m             \u001b[38;5;28;01mif\u001b[39;00m \u001b[38;5;28misinstance\u001b[39m(fobj, \u001b[38;5;28mstr\u001b[39m):\n\u001b[0;32m    653\u001b[0m                 \u001b[38;5;66;03m# if the returned file object is a string, this means we\u001b[39;00m\n\u001b[0;32m    654\u001b[0m                 \u001b[38;5;66;03m# try to load a pickle file generated with an version of\u001b[39;00m\n\u001b[0;32m    655\u001b[0m                 \u001b[38;5;66;03m# Joblib so we load it with joblib compatibility function.\u001b[39;00m\n",
      "\u001b[1;31mFileNotFoundError\u001b[0m: [Errno 2] No such file or directory: 'scaler.pkl'"
     ]
    }
   ],
   "source": [
    "import requests\n",
    "import time\n",
    "import math\n",
    "import numpy as np\n",
    "import tensorflow as tf\n",
    "import joblib\n",
    "\n",
    "# Phyphox settings\n",
    "PHYPOX_URL = \"http://192.168.1.17/get?gyrX&gyrY&gyrZ&gyr_time\"\n",
    "RAD_TO_DEG = 180 / math.pi\n",
    "\n",
    "# Load trained LSTM model\n",
    "model = tf.keras.models.load_model(\"lstm_posture_model.h5\")\n",
    "scaler = joblib.load(\"scaler.pkl\")\n",
    "\n",
    "# Initialize angles and previous timestamp\n",
    "angle_x, angle_y, angle_z = 0.0, 0.0, 0.0\n",
    "prev_time = None\n",
    "sequence_length = 30\n",
    "buffer = []\n",
    "\n",
    "def get_gyro_data():\n",
    "    try:\n",
    "        response = requests.get(PHYPOX_URL, timeout=2)\n",
    "        data = response.json()\n",
    "        return {\n",
    "            \"gyro_x\": data[\"buffer\"][\"gyrX\"][\"buffer\"][-1],\n",
    "            \"gyro_y\": data[\"buffer\"][\"gyrY\"][\"buffer\"][-1],\n",
    "            \"gyro_z\": data[\"buffer\"][\"gyrZ\"][\"buffer\"][-1],\n",
    "            \"timestamp\": data[\"buffer\"][\"gyr_time\"][\"buffer\"][-1]\n",
    "        }\n",
    "    except Exception as e:\n",
    "        print(f\"Error: {str(e)}\")\n",
    "        return None\n",
    "\n",
    "while True:\n",
    "    data = get_gyro_data()\n",
    "    \n",
    "    if data:\n",
    "        current_time = data[\"timestamp\"]\n",
    "        \n",
    "        if prev_time is None:\n",
    "            prev_time = current_time\n",
    "            continue\n",
    "            \n",
    "        dt = current_time - prev_time\n",
    "        prev_time = current_time\n",
    "\n",
    "        # Integrate angular velocity (rad/s) to angles (degrees)\n",
    "        angle_x += data[\"gyro_x\"] * dt * RAD_TO_DEG\n",
    "        angle_y += data[\"gyro_y\"] * dt * RAD_TO_DEG\n",
    "        angle_z += data[\"gyro_z\"] * dt * RAD_TO_DEG\n",
    "\n",
    "        # Normalize and store in buffer\n",
    "        angles = np.array([[angle_x, angle_y, angle_z]])\n",
    "        angles = scaler.transform(angles)[0]  # Normalize using trained scaler\n",
    "        buffer.append(angles)\n",
    "        \n",
    "        if len(buffer) >= sequence_length:\n",
    "            input_sequence = np.array(buffer[-sequence_length:]).reshape(1, sequence_length, 3)\n",
    "            prediction = model.predict(input_sequence)\n",
    "            label = \"Good Posture\" if prediction > 0.5 else \"Bad Posture\"\n",
    "            print(f\"X: {angle_x:.2f}° | Y: {angle_y:.2f}° | Z: {angle_z:.2f}° -> {label}\")\n",
    "        \n",
    "    time.sleep(0.5)  # Delay to match real-time monitoring\n"
   ]
  },
  {
   "cell_type": "code",
   "execution_count": null,
   "id": "a1550e22-ec04-46b1-9249-1b9fa8baf648",
   "metadata": {},
   "outputs": [],
   "source": []
  }
 ],
 "metadata": {
  "kernelspec": {
   "display_name": "Python 3 (ipykernel)",
   "language": "python",
   "name": "python3"
  },
  "language_info": {
   "codemirror_mode": {
    "name": "ipython",
    "version": 3
   },
   "file_extension": ".py",
   "mimetype": "text/x-python",
   "name": "python",
   "nbconvert_exporter": "python",
   "pygments_lexer": "ipython3",
   "version": "3.12.0"
  }
 },
 "nbformat": 4,
 "nbformat_minor": 5
}
